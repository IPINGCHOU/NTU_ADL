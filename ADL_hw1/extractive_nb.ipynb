{
 "cells": [
  {
   "cell_type": "code",
   "execution_count": 1,
   "metadata": {},
   "outputs": [],
   "source": [
    "import sys\n",
    "import os\n",
    "sys.path.append(\"/disk2/iping/NTU_ADL/ADL_hw1/hw1_sample_code/src\")\n",
    "import pickle\n",
    "from argparse import Namespace\n",
    "from typing import Tuple, Dict\n",
    "\n",
    "import torch\n",
    "from torch import nn\n",
    "from torch.utils.data import DataLoader\n",
    "import pytorch_lightning as pl\n",
    "import torch.nn.functional as F\n",
    "\n",
    "from dataset import SeqTaggingDataset\n",
    "from pytorch_lightning.callbacks import ModelCheckpoint"
   ]
  },
  {
   "cell_type": "code",
   "execution_count": 2,
   "metadata": {},
   "outputs": [],
   "source": [
    "class Encoder(nn.Module):\n",
    "    def __init__(self,\n",
    "                 embedding_path,\n",
    "                 embed_size,\n",
    "                 rnn_hidden_size,\n",
    "                 rnn_num_layers) -> None:\n",
    "        super(Encoder, self).__init__()\n",
    "        with open(embedding_path, 'rb') as f:\n",
    "            embedding = pickle.load(f)\n",
    "        embedding_weight = embedding.vectors\n",
    "        self.embedding = nn.Embedding.from_pretrained(embedding_weight)\n",
    "\n",
    "        # TODO (init a LSTM/RNN)\n",
    "        self.rnn = nn.GRU(input_size = embed_size,\n",
    "                          hidden_size = rnn_hidden_size,\n",
    "                          num_layers = rnn_num_layers,\n",
    "                          bidirectional=True,\n",
    "                          batch_first=True)\n",
    "\n",
    "    def forward(self, idxs) -> Tuple[torch.tensor, torch.tensor]:\n",
    "        embed = self.embedding(idxs)\n",
    "        output, state = self.rnn(embed)\n",
    "        return output, state\n",
    "\n",
    "class SeqTagger(pl.LightningModule):\n",
    "    def __init__(self, hparams) -> None:\n",
    "        super(SeqTagger, self).__init__()\n",
    "        self.hparams = hparams\n",
    "        self.criterion = nn.BCEWithLogitsLoss(\n",
    "            reduction='mean', \n",
    "            pos_weight=torch.tensor(hparams.pos_weight))\n",
    "        self.encoder = Encoder(hparams.embedding_path,\n",
    "                               hparams.embed_size,\n",
    "                               hparams.rnn_hidden_size,\n",
    "                               hparams.rnn_num_layers)\n",
    "        self.proj_1 = nn.Linear(2*self.encoder.rnn.hidden_size, 256)\n",
    "        self.proj_2 = nn.Linear(256, 128)\n",
    "        self.proj_3 = nn.Linear(128,1)\n",
    "        \n",
    "        self.ans = []\n",
    "\n",
    "    def forward(self, idxs) -> torch.tensor:\n",
    "        # TODO\n",
    "        # take the output of encoder\n",
    "        # project it to 1 dimensional tensor\n",
    "        enc_output, state = self.encoder(idxs)\n",
    "        l1 = F.relu(self.proj_1(enc_output))\n",
    "        l2 = F.relu(self.proj_2(l1))\n",
    "        \n",
    "        logits = self.proj_3(l2)\n",
    "    \n",
    "        return logits\n",
    "\n",
    "    def _unpack_batch(self, batch) -> Tuple[torch.tensor, torch.tensor]:\n",
    "        try:\n",
    "            return batch['text'], batch['label'].float()\n",
    "        except:\n",
    "            return batch['text']\n",
    "\n",
    "    def _calculate_loss(self, y_hat, y) -> torch.tensor:\n",
    "        # TODO\n",
    "        # calculate the logits\n",
    "        # plz use BCEWithLogit\n",
    "        # adjust pos_weight!\n",
    "        # MASK OUT PADDINGS' LOSSES!\n",
    "        y_hat = y_hat.reshape(-1)\n",
    "        y = y.reshape(-1)\n",
    "        non_ignore = torch.where(y!= self.hparams.ignore_idx)[0]    \n",
    "\n",
    "        loss = self.criterion(y_hat[non_ignore], y[non_ignore])\n",
    "        \n",
    "        return loss\n",
    "\n",
    "    def training_step(self, batch, batch_nb) -> Dict:\n",
    "        x, y = self._unpack_batch(batch)\n",
    "        logit = self.forward(x)\n",
    "        loss = self._calculate_loss(logit, y)\n",
    "        tensorboard_logs = {'train_loss': loss}\n",
    "        return {'loss': loss, 'log': tensorboard_logs}\n",
    "\n",
    "    def validation_step(self, batch, batch_nb) -> Dict:\n",
    "        x, y = self._unpack_batch(batch)\n",
    "        logit = self.forward(x)\n",
    "        loss = self._calculate_loss(logit, y)\n",
    "        return {'val_loss': loss}\n",
    "    \n",
    "    def test_step(self, batch, batch_nb) -> list:\n",
    "        x = self._unpack_batch(batch)\n",
    "        logit = self.forward(x)\n",
    "        pred = torch.sigmoid(logit)\n",
    "        pred = pred > self.hparams.threshold\n",
    "        b,s,w = pred.shape\n",
    "        pred = pred.view(b,s)\n",
    "        pred = pred.type(torch.uint8).tolist()\n",
    "        return pred\n",
    "        \n",
    "    def test_epoch_end(self, outputs) -> Dict:\n",
    "        for pred in outputs:\n",
    "            self.ans.extend(pred)\n",
    "        print('Now threshold: ' + str(self.hparams.threshold))\n",
    "        return {'test': 0}\n",
    "    \n",
    "    def validation_epoch_end(self, outputs) -> Dict:\n",
    "        avg_loss = torch.stack([x['val_loss'] for x in outputs]).mean()\n",
    "        tensorboard_logs = {'val_loss': avg_loss}\n",
    "        return {'avg_val_loss': avg_loss, 'log': tensorboard_logs}\n",
    "    \n",
    "    def configure_optimizers(self) -> torch.optim.Optimizer:\n",
    "        return torch.optim.Adam(self.parameters(), lr=self.hparams.lr)\n",
    "\n",
    "    def _load_dataset(self, dataset_path: str) -> SeqTaggingDataset:\n",
    "        with open(dataset_path, 'rb') as f:\n",
    "            dataset = pickle.load(f)\n",
    "        return dataset\n",
    "\n",
    "    def train_dataloader(self):\n",
    "        dataset = self._load_dataset(self.hparams.train_dataset_path)\n",
    "        return DataLoader(dataset, \n",
    "                          self.hparams.batch_size, \n",
    "                          shuffle=True,\n",
    "                          collate_fn=dataset.collate_fn)\n",
    "\n",
    "    def val_dataloader(self):\n",
    "        dataset = self._load_dataset(self.hparams.valid_dataset_path)\n",
    "        return DataLoader(dataset, \n",
    "                          self.hparams.batch_size, \n",
    "                          collate_fn=dataset.collate_fn)\n",
    "    \n",
    "    def test_dataloader(self):\n",
    "        dataset = self._load_dataset(self.hparams.test_dataset_path)\n",
    "        return DataLoader(dataset, \n",
    "                          self.hparams.test_batch_size, \n",
    "                          collate_fn=dataset.collate_fn)\n",
    "    \n",
    "class MyPrintingCallback(pl.Callback):\n",
    "    \n",
    "    def on_validation_start(self, trainer, pl_module):\n",
    "        print('validation starts')\n",
    "        \n",
    "    def on_validation_end(self, trainer, pl_module):\n",
    "        print('validation end')"
   ]
  },
  {
   "cell_type": "code",
   "execution_count": 3,
   "metadata": {},
   "outputs": [],
   "source": [
    "data_path = '/disk2/iping/NTU_ADL/ADL_hw1/data'\n",
    "hparams = Namespace(**{\n",
    "    'embedding_path': data_path + \"/embedding_tag.pkl\",\n",
    "    'embed_size': 300,\n",
    "\n",
    "    'train_dataset_path': data_path + \"/train_tag.pkl\",\n",
    "    'valid_dataset_path': data_path + \"/valid_tag.pkl\",\n",
    "    'test_dataset_path': data_path + \"/test_tag.pkl\",\n",
    "    'ignore_idx': -100,\n",
    "\n",
    "    'batch_size': 512,\n",
    "    'test_batch_size': 256,\n",
    "    \n",
    "    'pos_weight': 5,\n",
    "    \n",
    "    'lr': 1e-03,\n",
    "    'rnn_num_layers': 3,\n",
    "    \n",
    "    'threshold': 0.5,\n",
    "\n",
    "    'rnn_hidden_size': 256,\n",
    "})\n"
   ]
  },
  {
   "cell_type": "code",
   "execution_count": 11,
   "metadata": {},
   "outputs": [
    {
     "data": {
      "application/vnd.jupyter.widget-view+json": {
       "model_id": "",
       "version_major": 2,
       "version_minor": 0
      },
      "text/plain": [
       "HBox(children=(FloatProgress(value=0.0, description='Validation sanity check', layout=Layout(flex='2'), max=5.…"
      ]
     },
     "metadata": {},
     "output_type": "display_data"
    },
    {
     "data": {
      "application/vnd.jupyter.widget-view+json": {
       "model_id": "a912d489c8d549008f67d15f7ea2380d",
       "version_major": 2,
       "version_minor": 0
      },
      "text/plain": [
       "HBox(children=(FloatProgress(value=1.0, bar_style='info', layout=Layout(flex='2'), max=1.0), HTML(value='')), …"
      ]
     },
     "metadata": {},
     "output_type": "display_data"
    },
    {
     "data": {
      "application/vnd.jupyter.widget-view+json": {
       "model_id": "",
       "version_major": 2,
       "version_minor": 0
      },
      "text/plain": [
       "HBox(children=(FloatProgress(value=0.0, description='Validating', layout=Layout(flex='2'), max=40.0, style=Pro…"
      ]
     },
     "metadata": {},
     "output_type": "display_data"
    },
    {
     "data": {
      "application/vnd.jupyter.widget-view+json": {
       "model_id": "",
       "version_major": 2,
       "version_minor": 0
      },
      "text/plain": [
       "HBox(children=(FloatProgress(value=0.0, description='Validating', layout=Layout(flex='2'), max=40.0, style=Pro…"
      ]
     },
     "metadata": {},
     "output_type": "display_data"
    },
    {
     "data": {
      "application/vnd.jupyter.widget-view+json": {
       "model_id": "",
       "version_major": 2,
       "version_minor": 0
      },
      "text/plain": [
       "HBox(children=(FloatProgress(value=0.0, description='Validating', layout=Layout(flex='2'), max=40.0, style=Pro…"
      ]
     },
     "metadata": {},
     "output_type": "display_data"
    },
    {
     "data": {
      "application/vnd.jupyter.widget-view+json": {
       "model_id": "",
       "version_major": 2,
       "version_minor": 0
      },
      "text/plain": [
       "HBox(children=(FloatProgress(value=0.0, description='Validating', layout=Layout(flex='2'), max=40.0, style=Pro…"
      ]
     },
     "metadata": {},
     "output_type": "display_data"
    },
    {
     "data": {
      "application/vnd.jupyter.widget-view+json": {
       "model_id": "",
       "version_major": 2,
       "version_minor": 0
      },
      "text/plain": [
       "HBox(children=(FloatProgress(value=0.0, description='Validating', layout=Layout(flex='2'), max=40.0, style=Pro…"
      ]
     },
     "metadata": {},
     "output_type": "display_data"
    },
    {
     "data": {
      "application/vnd.jupyter.widget-view+json": {
       "model_id": "",
       "version_major": 2,
       "version_minor": 0
      },
      "text/plain": [
       "HBox(children=(FloatProgress(value=0.0, description='Validating', layout=Layout(flex='2'), max=40.0, style=Pro…"
      ]
     },
     "metadata": {},
     "output_type": "display_data"
    },
    {
     "data": {
      "application/vnd.jupyter.widget-view+json": {
       "model_id": "",
       "version_major": 2,
       "version_minor": 0
      },
      "text/plain": [
       "HBox(children=(FloatProgress(value=0.0, description='Validating', layout=Layout(flex='2'), max=40.0, style=Pro…"
      ]
     },
     "metadata": {},
     "output_type": "display_data"
    },
    {
     "data": {
      "application/vnd.jupyter.widget-view+json": {
       "model_id": "",
       "version_major": 2,
       "version_minor": 0
      },
      "text/plain": [
       "HBox(children=(FloatProgress(value=0.0, description='Validating', layout=Layout(flex='2'), max=40.0, style=Pro…"
      ]
     },
     "metadata": {},
     "output_type": "display_data"
    },
    {
     "name": "stdout",
     "output_type": "stream",
     "text": [
      "\n"
     ]
    },
    {
     "data": {
      "text/plain": [
       "1"
      ]
     },
     "execution_count": 11,
     "metadata": {},
     "output_type": "execute_result"
    }
   ],
   "source": [
    "PATH_checkpoint = \"/disk2/iping/NTU_ADL/ADL_hw1/extractive_model/\"\n",
    "PATH_checkpoint += \"model_pos5_{epoch:02d}\"\n",
    "\n",
    "checkpoint_callback = ModelCheckpoint(\n",
    "    filepath=PATH_checkpoint,\n",
    "    save_top_k=True,\n",
    "    verbose=True,\n",
    "    monitor='avg_val_loss',\n",
    "    mode='min',\n",
    "    prefix=''\n",
    ")\n",
    "\n",
    "seq_tagger = SeqTagger(hparams)\n",
    "trainer = pl.Trainer(gpus=1, max_epochs=8, checkpoint_callback=checkpoint_callback)\n",
    "trainer.fit(seq_tagger)"
   ]
  },
  {
   "cell_type": "code",
   "execution_count": 4,
   "metadata": {},
   "outputs": [],
   "source": [
    "from tqdm import tqdm\n",
    "PATH_checkpoint = \"/disk2/iping/NTU_ADL/ADL_hw1/extractive_model/\"\n",
    "PATH_checkpoint += \"best_extractive_model.ckpt\"\n",
    "seq_tagger = SeqTagger.load_from_checkpoint(PATH_checkpoint)"
   ]
  },
  {
   "cell_type": "code",
   "execution_count": 6,
   "metadata": {},
   "outputs": [
    {
     "name": "stderr",
     "output_type": "stream",
     "text": [
      "Test: 100%|██████████| 313/313 [00:16<00:00, 18.66it/s]\n"
     ]
    }
   ],
   "source": [
    "# if pl test doesnt work\n",
    "with open(data_path + \"/test_tag.pkl\", 'rb') as f:\n",
    "    dataset = pickle.load(f)\n",
    "test_loader = DataLoader(dataset, \n",
    "                         64, \n",
    "                         collate_fn=dataset.collate_fn)\n",
    "device = 'cuda:0'\n",
    "trange_test = tqdm(enumerate(test_loader), total=len(test_loader), desc = 'Test')\n",
    "ans = []\n",
    "for z, (batch) in trange_test:\n",
    "    x = seq_tagger._unpack_batch(batch)\n",
    "    x = x.to(device)\n",
    "    seq_tagger.to(device)\n",
    "    logit = seq_tagger.forward(x)\n",
    "    pred = torch.sigmoid(logit)\n",
    "    pred = pred > hparams.threshold\n",
    "    b,s,w = pred.shape\n",
    "    pred = pred.view(b,s)\n",
    "    pred = pred.type(torch.uint8).tolist()\n",
    "    ans.extend(pred)"
   ]
  },
  {
   "cell_type": "code",
   "execution_count": 12,
   "metadata": {},
   "outputs": [],
   "source": [
    "with open(data_path + \"/valid_tag.pkl\", 'rb') as f:\n",
    "    valid_dataset = pickle.load(f)"
   ]
  },
  {
   "cell_type": "code",
   "execution_count": 13,
   "metadata": {},
   "outputs": [
    {
     "name": "stderr",
     "output_type": "stream",
     "text": [
      "/home/iping/.local/lib/python3.6/site-packages/ipykernel_launcher.py:9: RuntimeWarning: invalid value encountered in double_scalars\n",
      "  if __name__ == '__main__':\n",
      "/home/iping/.local/lib/python3.6/site-packages/ipykernel_launcher.py:11: RuntimeWarning: invalid value encountered in greater_equal\n",
      "  # This is added back by InteractiveShellApp.init_path()\n"
     ]
    }
   ],
   "source": [
    "# Ratio of \"1\" should bigger than 50%\n",
    "import numpy as np\n",
    "ans_jsonl = []\n",
    "THRESHOLD_chosed = 0.1\n",
    "for data, a in zip(valid_dataset, ans):\n",
    "    ratio_ones = []\n",
    "    for i in data['sent_range']:\n",
    "        now_sent = a[i[0]: i[1]]\n",
    "        ratio_ones.append(np.sum(now_sent) / len(now_sent))\n",
    "        \n",
    "    pos = np.where(np.array(ratio_ones) >= THRESHOLD_chosed)[0].tolist()\n",
    "    ans_jsonl.append({'id':data['id'],'predict_sentence_index':pos})"
   ]
  },
  {
   "cell_type": "code",
   "execution_count": 19,
   "metadata": {},
   "outputs": [
    {
     "data": {
      "text/plain": [
       "11"
      ]
     },
     "execution_count": 19,
     "metadata": {},
     "output_type": "execute_result"
    }
   ],
   "source": [
    "\n",
    "\n",
    "len(valid_dataset[0]['sent_range'])"
   ]
  },
  {
   "cell_type": "code",
   "execution_count": 20,
   "metadata": {},
   "outputs": [
    {
     "data": {
      "text/plain": [
       "{'id': '2000000', 'predict_sentence_index': [1, 4]}"
      ]
     },
     "execution_count": 20,
     "metadata": {},
     "output_type": "execute_result"
    }
   ],
   "source": [
    "ans_jsonl[0]['predict_sentence_index']"
   ]
  },
  {
   "cell_type": "code",
   "execution_count": 14,
   "metadata": {},
   "outputs": [],
   "source": [
    "import json\n",
    "ans_jsObj = json.dumps(ans_jsonl) "
   ]
  },
  {
   "cell_type": "code",
   "execution_count": 15,
   "metadata": {},
   "outputs": [],
   "source": [
    "PATH_save = \"/disk2/iping/NTU_ADL/ADL_hw1/for_testing/\"\n",
    "filename_save = 'output_pos5_fp0.2_best'\n",
    "with open(PATH_save+filename_save+'.jsonl', 'w') as outfile:\n",
    "    for entry in ans_jsonl:\n",
    "        json.dump(entry, outfile)\n",
    "        outfile.write('\\n')"
   ]
  },
  {
   "cell_type": "code",
   "execution_count": null,
   "metadata": {},
   "outputs": [],
   "source": []
  },
  {
   "cell_type": "code",
   "execution_count": 23,
   "metadata": {},
   "outputs": [],
   "source": [
    "# Report 4 hist\n",
    "import numpy as np\n",
    "import matplotlib.pyplot as plt\n",
    "all_relative = []\n",
    "for ans, valid in zip(ans_jsonl, valid_dataset):\n",
    "    ratio = np.array(ans['predict_sentence_index']) / len(valid['sent_range'])\n",
    "    all_relative.extend(ratio.tolist())"
   ]
  },
  {
   "cell_type": "code",
   "execution_count": 32,
   "metadata": {},
   "outputs": [
    {
     "data": {
      "text/plain": [
       "<matplotlib.text.Text at 0x7f48720502b0>"
      ]
     },
     "execution_count": 32,
     "metadata": {},
     "output_type": "execute_result"
    },
    {
     "data": {
      "image/png": "[encoded data removed]",
      "text/plain": [
       "<matplotlib.figure.Figure at 0x7f487205d278>"
      ]
     },
     "metadata": {
      "needs_background": "light"
     },
     "output_type": "display_data"
    }
   ],
   "source": [
    "plt.hist(np.array(all_relative), bins=50)\n",
    "plt.title('Relative locations')"
   ]
  },
  {
   "cell_type": "code",
   "execution_count": 27,
   "metadata": {},
   "outputs": [],
   "source": [
    "counts, bins = np.histogram(all_relative)"
   ]
  }
 ],
 "metadata": {
  "kernelspec": {
   "display_name": "Python 3",
   "language": "python",
   "name": "python3"
  },
  "language_info": {
   "codemirror_mode": {
    "name": "ipython",
    "version": 3
   },
   "file_extension": ".py",
   "mimetype": "text/x-python",
   "name": "python",
   "nbconvert_exporter": "python",
   "pygments_lexer": "ipython3",
   "version": "3.6.10"
  }
 },
 "nbformat": 4,
 "nbformat_minor": 4
}
